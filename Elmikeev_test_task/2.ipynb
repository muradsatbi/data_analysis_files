{
 "cells": [
  {
   "cell_type": "code",
   "execution_count": 1,
   "id": "51edfda3",
   "metadata": {},
   "outputs": [],
   "source": [
    "import pandas as pd"
   ]
  },
  {
   "cell_type": "markdown",
   "id": "eaf6727a",
   "metadata": {},
   "source": [
    "1. самые продающие магазины / Тип магазина\n",
    "2. самые покупающие / прибыльные регионы / страны / города / клиенты\n",
    "3. статанализ по продажам, распределение\n",
    "4. самые продающиеся модели / категории\n",
    "5. динамика по месяцам, кварталам, годам\n",
    "6. критерии: продажи, прибыль, количество продаж, количество проданных товаров, средний чек, категории товара"
   ]
  },
  {
   "cell_type": "code",
   "execution_count": 2,
   "id": "1c95b63e",
   "metadata": {},
   "outputs": [],
   "source": [
    "data = pd.read_excel('Elmikeev_test.xlsx', sheet_name=None)"
   ]
  },
  {
   "cell_type": "code",
   "execution_count": 3,
   "id": "3cb70e98",
   "metadata": {},
   "outputs": [
    {
     "data": {
      "text/plain": [
       "dict_keys(['СПР_территории', 'Продажи', 'СПР_Магазины', 'СПР_Календарь', 'СПР_товар', 'СПР_клиент'])"
      ]
     },
     "execution_count": 3,
     "metadata": {},
     "output_type": "execute_result"
    }
   ],
   "source": [
    "data.keys()"
   ]
  },
  {
   "cell_type": "code",
   "execution_count": 56,
   "id": "00535d96",
   "metadata": {
    "scrolled": true
   },
   "outputs": [
    {
     "data": {
      "text/plain": [
       "Index(['ИД_Заказа', 'Ключ_Магазин', 'Ключ_Клиент', 'Ключ_Номенклатура',\n",
       "       'Дата заказа', 'Дата получения', 'Дата отправки', 'Ключ_территория',\n",
       "       'Количество, шт.', 'Цена, шт', 'Полная стоимость', 'Сидка,%',\n",
       "       'Себестоимость', 'Общая стоимость, руб', 'Выручка итоговая'],\n",
       "      dtype='object')"
      ]
     },
     "execution_count": 56,
     "metadata": {},
     "output_type": "execute_result"
    }
   ],
   "source": [
    "data['Продажи'].columns"
   ]
  },
  {
   "cell_type": "code",
   "execution_count": 5,
   "id": "95e146f2",
   "metadata": {},
   "outputs": [
    {
     "data": {
      "text/plain": [
       "Ключ_территория    float64\n",
       "Регион              object\n",
       "Страна              object\n",
       "Группа              object\n",
       "dtype: object"
      ]
     },
     "execution_count": 5,
     "metadata": {},
     "output_type": "execute_result"
    }
   ],
   "source": [
    "data['СПР_территории'].dtypes"
   ]
  },
  {
   "cell_type": "code",
   "execution_count": 6,
   "id": "2f034a85",
   "metadata": {},
   "outputs": [
    {
     "data": {
      "text/plain": [
       "Ключ_Магазин    float64\n",
       "ИД Магазина      object\n",
       "Тип магазина     object\n",
       "Магазин          object\n",
       "Город            object\n",
       "Область          object\n",
       "Регион           object\n",
       "Почтовый код     object\n",
       "dtype: object"
      ]
     },
     "execution_count": 6,
     "metadata": {},
     "output_type": "execute_result"
    }
   ],
   "source": [
    "data['СПР_Магазины'].dtypes"
   ]
  },
  {
   "cell_type": "code",
   "execution_count": 7,
   "id": "98b93b5f",
   "metadata": {
    "scrolled": true
   },
   "outputs": [
    {
     "data": {
      "text/plain": [
       "Ключ_номенклатура    float64\n",
       "Артикул               object\n",
       "Номенклатура          object\n",
       "Закупка, руб         float64\n",
       "Цвет                  object\n",
       "Себестоимость        float64\n",
       "Модель                object\n",
       "Субкатегория          object\n",
       "Категория             object\n",
       "dtype: object"
      ]
     },
     "execution_count": 7,
     "metadata": {},
     "output_type": "execute_result"
    }
   ],
   "source": [
    "data['СПР_товар'].dtypes"
   ]
  },
  {
   "cell_type": "code",
   "execution_count": 8,
   "id": "efbb588f",
   "metadata": {},
   "outputs": [
    {
     "data": {
      "text/plain": [
       "Ключ_Дата      float64\n",
       "Дата           float64\n",
       "Год             object\n",
       "Квартал         object\n",
       "Месяц           object\n",
       "Полная дата     object\n",
       "Ключ_Месяц     float64\n",
       "dtype: object"
      ]
     },
     "execution_count": 8,
     "metadata": {},
     "output_type": "execute_result"
    }
   ],
   "source": [
    "data['СПР_Календарь'].dtypes"
   ]
  },
  {
   "cell_type": "code",
   "execution_count": 9,
   "id": "b42cf144",
   "metadata": {},
   "outputs": [
    {
     "data": {
      "text/plain": [
       "Ключ_клиент     float64\n",
       "ИД клиента       object\n",
       "Клиент           object\n",
       "Город            object\n",
       "Область          object\n",
       "Регион           object\n",
       "Почтовый код     object\n",
       "dtype: object"
      ]
     },
     "execution_count": 9,
     "metadata": {},
     "output_type": "execute_result"
    }
   ],
   "source": [
    "data['СПР_клиент'].dtypes"
   ]
  },
  {
   "cell_type": "code",
   "execution_count": 10,
   "id": "b668906b",
   "metadata": {},
   "outputs": [],
   "source": [
    "summary = data['Продажи']"
   ]
  },
  {
   "cell_type": "code",
   "execution_count": 11,
   "id": "23de14cc",
   "metadata": {},
   "outputs": [
    {
     "data": {
      "text/plain": [
       "(121253, 15)"
      ]
     },
     "execution_count": 11,
     "metadata": {},
     "output_type": "execute_result"
    }
   ],
   "source": [
    "summary.shape"
   ]
  },
  {
   "cell_type": "code",
   "execution_count": 12,
   "id": "09a9f79a",
   "metadata": {},
   "outputs": [],
   "source": [
    "summary = summary.merge(data['СПР_клиент'], left_on='Ключ_Клиент', right_on='Ключ_клиент')"
   ]
  },
  {
   "cell_type": "code",
   "execution_count": 13,
   "id": "f3a77ef3",
   "metadata": {},
   "outputs": [
    {
     "data": {
      "text/plain": [
       "(121253, 22)"
      ]
     },
     "execution_count": 13,
     "metadata": {},
     "output_type": "execute_result"
    }
   ],
   "source": [
    "summary.shape"
   ]
  },
  {
   "cell_type": "code",
   "execution_count": 14,
   "id": "9c935e76",
   "metadata": {},
   "outputs": [],
   "source": [
    "summary = summary.merge(data['СПР_территории'], left_on='Ключ_территория', right_on='Ключ_территория')"
   ]
  },
  {
   "cell_type": "code",
   "execution_count": 15,
   "id": "10c0a7cc",
   "metadata": {},
   "outputs": [
    {
     "data": {
      "text/plain": [
       "(121253, 25)"
      ]
     },
     "execution_count": 15,
     "metadata": {},
     "output_type": "execute_result"
    }
   ],
   "source": [
    "summary.shape"
   ]
  },
  {
   "cell_type": "code",
   "execution_count": 16,
   "id": "a9107e63",
   "metadata": {},
   "outputs": [],
   "source": [
    "summary = summary.merge(data['СПР_Магазины'], left_on='Ключ_Магазин', right_on='Ключ_Магазин')"
   ]
  },
  {
   "cell_type": "code",
   "execution_count": 17,
   "id": "faabf6f3",
   "metadata": {},
   "outputs": [
    {
     "data": {
      "text/plain": [
       "(121253, 32)"
      ]
     },
     "execution_count": 17,
     "metadata": {},
     "output_type": "execute_result"
    }
   ],
   "source": [
    "summary.shape"
   ]
  },
  {
   "cell_type": "code",
   "execution_count": 18,
   "id": "4afbf453",
   "metadata": {},
   "outputs": [],
   "source": [
    "summary = summary.merge(data['СПР_товар'], left_on='Ключ_Номенклатура', right_on='Ключ_номенклатура')"
   ]
  },
  {
   "cell_type": "code",
   "execution_count": 19,
   "id": "b3b6b833",
   "metadata": {
    "scrolled": true
   },
   "outputs": [
    {
     "data": {
      "text/plain": [
       "(121253, 41)"
      ]
     },
     "execution_count": 19,
     "metadata": {},
     "output_type": "execute_result"
    }
   ],
   "source": [
    "summary.shape"
   ]
  },
  {
   "cell_type": "code",
   "execution_count": 20,
   "id": "d67779c9",
   "metadata": {},
   "outputs": [
    {
     "data": {
      "text/html": [
       "<div>\n",
       "<style scoped>\n",
       "    .dataframe tbody tr th:only-of-type {\n",
       "        vertical-align: middle;\n",
       "    }\n",
       "\n",
       "    .dataframe tbody tr th {\n",
       "        vertical-align: top;\n",
       "    }\n",
       "\n",
       "    .dataframe thead th {\n",
       "        text-align: right;\n",
       "    }\n",
       "</style>\n",
       "<table border=\"1\" class=\"dataframe\">\n",
       "  <thead>\n",
       "    <tr style=\"text-align: right;\">\n",
       "      <th></th>\n",
       "      <th>Ключ_Дата</th>\n",
       "      <th>Дата</th>\n",
       "      <th>Год</th>\n",
       "      <th>Квартал</th>\n",
       "      <th>Месяц</th>\n",
       "      <th>Полная дата</th>\n",
       "      <th>Ключ_Месяц</th>\n",
       "    </tr>\n",
       "  </thead>\n",
       "  <tbody>\n",
       "    <tr>\n",
       "      <th>0</th>\n",
       "      <td>20170701.0</td>\n",
       "      <td>42917.0</td>\n",
       "      <td>FY2018</td>\n",
       "      <td>FY2018 Q1</td>\n",
       "      <td>2017 Jul</td>\n",
       "      <td>2017 Jul, 01</td>\n",
       "      <td>201707.0</td>\n",
       "    </tr>\n",
       "  </tbody>\n",
       "</table>\n",
       "</div>"
      ],
      "text/plain": [
       "    Ключ_Дата     Дата     Год    Квартал     Месяц   Полная дата  Ключ_Месяц\n",
       "0  20170701.0  42917.0  FY2018  FY2018 Q1  2017 Jul  2017 Jul, 01    201707.0"
      ]
     },
     "execution_count": 20,
     "metadata": {},
     "output_type": "execute_result"
    }
   ],
   "source": [
    "data['СПР_Календарь'].head(1)"
   ]
  },
  {
   "cell_type": "code",
   "execution_count": 21,
   "id": "cb2190ae",
   "metadata": {},
   "outputs": [
    {
     "data": {
      "text/plain": [
       "ИД_Заказа               float64\n",
       "Ключ_Магазин            float64\n",
       "Ключ_Клиент             float64\n",
       "Ключ_Номенклатура       float64\n",
       "Дата заказа             float64\n",
       "Дата получения          float64\n",
       "Дата отправки           float64\n",
       "Ключ_территория         float64\n",
       "Количество, шт.         float64\n",
       "Цена, шт                float64\n",
       "Полная стоимость        float64\n",
       "Сидка,%                 float64\n",
       "Себестоимость_x         float64\n",
       "Общая стоимость, руб    float64\n",
       "Выручка итоговая        float64\n",
       "Ключ_клиент             float64\n",
       "ИД клиента               object\n",
       "Клиент                   object\n",
       "Город_x                  object\n",
       "Область_x                object\n",
       "Регион_x                 object\n",
       "Почтовый код_x           object\n",
       "Регион_y                 object\n",
       "Страна                   object\n",
       "Группа                   object\n",
       "ИД Магазина              object\n",
       "Тип магазина             object\n",
       "Магазин                  object\n",
       "Город_y                  object\n",
       "Область_y                object\n",
       "Регион                   object\n",
       "Почтовый код_y           object\n",
       "Ключ_номенклатура       float64\n",
       "Артикул                  object\n",
       "Номенклатура             object\n",
       "Закупка, руб            float64\n",
       "Цвет                     object\n",
       "Себестоимость_y         float64\n",
       "Модель                   object\n",
       "Субкатегория             object\n",
       "Категория                object\n",
       "dtype: object"
      ]
     },
     "execution_count": 21,
     "metadata": {},
     "output_type": "execute_result"
    }
   ],
   "source": [
    "summary.dtypes"
   ]
  },
  {
   "cell_type": "code",
   "execution_count": 42,
   "id": "4f991236",
   "metadata": {
    "scrolled": true
   },
   "outputs": [
    {
     "data": {
      "text/html": [
       "<div>\n",
       "<style scoped>\n",
       "    .dataframe tbody tr th:only-of-type {\n",
       "        vertical-align: middle;\n",
       "    }\n",
       "\n",
       "    .dataframe tbody tr th {\n",
       "        vertical-align: top;\n",
       "    }\n",
       "\n",
       "    .dataframe thead th {\n",
       "        text-align: right;\n",
       "    }\n",
       "</style>\n",
       "<table border=\"1\" class=\"dataframe\">\n",
       "  <thead>\n",
       "    <tr style=\"text-align: right;\">\n",
       "      <th></th>\n",
       "      <th>Область_x</th>\n",
       "      <th>Регион_x</th>\n",
       "      <th>Регион_y</th>\n",
       "      <th>Группа</th>\n",
       "      <th>Область_y</th>\n",
       "      <th>Регион</th>\n",
       "    </tr>\n",
       "  </thead>\n",
       "  <tbody>\n",
       "    <tr>\n",
       "      <th>279</th>\n",
       "      <td>England</td>\n",
       "      <td>United Kingdom</td>\n",
       "      <td>United Kingdom</td>\n",
       "      <td>Europe</td>\n",
       "      <td>[Not Applicable]</td>\n",
       "      <td>[Not Applicable]</td>\n",
       "    </tr>\n",
       "    <tr>\n",
       "      <th>280</th>\n",
       "      <td>England</td>\n",
       "      <td>United Kingdom</td>\n",
       "      <td>United Kingdom</td>\n",
       "      <td>Europe</td>\n",
       "      <td>[Not Applicable]</td>\n",
       "      <td>[Not Applicable]</td>\n",
       "    </tr>\n",
       "    <tr>\n",
       "      <th>281</th>\n",
       "      <td>England</td>\n",
       "      <td>United Kingdom</td>\n",
       "      <td>United Kingdom</td>\n",
       "      <td>Europe</td>\n",
       "      <td>[Not Applicable]</td>\n",
       "      <td>[Not Applicable]</td>\n",
       "    </tr>\n",
       "    <tr>\n",
       "      <th>282</th>\n",
       "      <td>England</td>\n",
       "      <td>United Kingdom</td>\n",
       "      <td>United Kingdom</td>\n",
       "      <td>Europe</td>\n",
       "      <td>[Not Applicable]</td>\n",
       "      <td>[Not Applicable]</td>\n",
       "    </tr>\n",
       "    <tr>\n",
       "      <th>283</th>\n",
       "      <td>England</td>\n",
       "      <td>United Kingdom</td>\n",
       "      <td>United Kingdom</td>\n",
       "      <td>Europe</td>\n",
       "      <td>[Not Applicable]</td>\n",
       "      <td>[Not Applicable]</td>\n",
       "    </tr>\n",
       "    <tr>\n",
       "      <th>...</th>\n",
       "      <td>...</td>\n",
       "      <td>...</td>\n",
       "      <td>...</td>\n",
       "      <td>...</td>\n",
       "      <td>...</td>\n",
       "      <td>...</td>\n",
       "    </tr>\n",
       "    <tr>\n",
       "      <th>116882</th>\n",
       "      <td>New South Wales</td>\n",
       "      <td>Australia</td>\n",
       "      <td>Australia</td>\n",
       "      <td>Pacific</td>\n",
       "      <td>[Not Applicable]</td>\n",
       "      <td>[Not Applicable]</td>\n",
       "    </tr>\n",
       "    <tr>\n",
       "      <th>116883</th>\n",
       "      <td>New South Wales</td>\n",
       "      <td>Australia</td>\n",
       "      <td>Australia</td>\n",
       "      <td>Pacific</td>\n",
       "      <td>[Not Applicable]</td>\n",
       "      <td>[Not Applicable]</td>\n",
       "    </tr>\n",
       "    <tr>\n",
       "      <th>116884</th>\n",
       "      <td>New South Wales</td>\n",
       "      <td>Australia</td>\n",
       "      <td>Australia</td>\n",
       "      <td>Pacific</td>\n",
       "      <td>[Not Applicable]</td>\n",
       "      <td>[Not Applicable]</td>\n",
       "    </tr>\n",
       "    <tr>\n",
       "      <th>116885</th>\n",
       "      <td>Queensland</td>\n",
       "      <td>Australia</td>\n",
       "      <td>Australia</td>\n",
       "      <td>Pacific</td>\n",
       "      <td>[Not Applicable]</td>\n",
       "      <td>[Not Applicable]</td>\n",
       "    </tr>\n",
       "    <tr>\n",
       "      <th>116886</th>\n",
       "      <td>New South Wales</td>\n",
       "      <td>Australia</td>\n",
       "      <td>Australia</td>\n",
       "      <td>Pacific</td>\n",
       "      <td>[Not Applicable]</td>\n",
       "      <td>[Not Applicable]</td>\n",
       "    </tr>\n",
       "  </tbody>\n",
       "</table>\n",
       "<p>60398 rows × 6 columns</p>\n",
       "</div>"
      ],
      "text/plain": [
       "              Область_x        Регион_x        Регион_y   Группа  \\\n",
       "279             England  United Kingdom  United Kingdom   Europe   \n",
       "280             England  United Kingdom  United Kingdom   Europe   \n",
       "281             England  United Kingdom  United Kingdom   Europe   \n",
       "282             England  United Kingdom  United Kingdom   Europe   \n",
       "283             England  United Kingdom  United Kingdom   Europe   \n",
       "...                 ...             ...             ...      ...   \n",
       "116882  New South Wales       Australia       Australia  Pacific   \n",
       "116883  New South Wales       Australia       Australia  Pacific   \n",
       "116884  New South Wales       Australia       Australia  Pacific   \n",
       "116885       Queensland       Australia       Australia  Pacific   \n",
       "116886  New South Wales       Australia       Australia  Pacific   \n",
       "\n",
       "               Область_y            Регион  \n",
       "279     [Not Applicable]  [Not Applicable]  \n",
       "280     [Not Applicable]  [Not Applicable]  \n",
       "281     [Not Applicable]  [Not Applicable]  \n",
       "282     [Not Applicable]  [Not Applicable]  \n",
       "283     [Not Applicable]  [Not Applicable]  \n",
       "...                  ...               ...  \n",
       "116882  [Not Applicable]  [Not Applicable]  \n",
       "116883  [Not Applicable]  [Not Applicable]  \n",
       "116884  [Not Applicable]  [Not Applicable]  \n",
       "116885  [Not Applicable]  [Not Applicable]  \n",
       "116886  [Not Applicable]  [Not Applicable]  \n",
       "\n",
       "[60398 rows x 6 columns]"
      ]
     },
     "execution_count": 42,
     "metadata": {},
     "output_type": "execute_result"
    }
   ],
   "source": [
    "summary.loc[:, ['Область_x', 'Регион_x', 'Регион_y', 'Группа', 'Область_y', 'Регион']].query('Область_x != \"[Not Applicable]\"')"
   ]
  },
  {
   "cell_type": "code",
   "execution_count": 43,
   "id": "90c82b20",
   "metadata": {},
   "outputs": [],
   "source": [
    "summary.drop(columns=['Почтовый код_y', 'Почтовый код_x', 'Ключ_клиент', 'Ключ_номенклатура', \n",
    "                      'Сидка,%', 'Артикул', 'Закупка, руб', 'Цвет'], inplace=True)"
   ]
  },
  {
   "cell_type": "code",
   "execution_count": 46,
   "id": "2d6eaefe",
   "metadata": {
    "scrolled": true
   },
   "outputs": [
    {
     "data": {
      "text/html": [
       "<div>\n",
       "<style scoped>\n",
       "    .dataframe tbody tr th:only-of-type {\n",
       "        vertical-align: middle;\n",
       "    }\n",
       "\n",
       "    .dataframe tbody tr th {\n",
       "        vertical-align: top;\n",
       "    }\n",
       "\n",
       "    .dataframe thead th {\n",
       "        text-align: right;\n",
       "    }\n",
       "</style>\n",
       "<table border=\"1\" class=\"dataframe\">\n",
       "  <thead>\n",
       "    <tr style=\"text-align: right;\">\n",
       "      <th></th>\n",
       "      <th>ИД_Заказа</th>\n",
       "      <th>Ключ_Магазин</th>\n",
       "      <th>Ключ_Клиент</th>\n",
       "      <th>Ключ_Номенклатура</th>\n",
       "      <th>Дата заказа</th>\n",
       "      <th>Дата получения</th>\n",
       "      <th>Дата отправки</th>\n",
       "      <th>Ключ_территория</th>\n",
       "      <th>Количество, шт.</th>\n",
       "      <th>Цена, шт</th>\n",
       "      <th>...</th>\n",
       "      <th>Магазин</th>\n",
       "      <th>Город_y</th>\n",
       "      <th>Область_y</th>\n",
       "      <th>Регион</th>\n",
       "      <th>Номенклатура</th>\n",
       "      <th>Цвет</th>\n",
       "      <th>Себестоимость_y</th>\n",
       "      <th>Модель</th>\n",
       "      <th>Субкатегория</th>\n",
       "      <th>Категория</th>\n",
       "    </tr>\n",
       "  </thead>\n",
       "  <tbody>\n",
       "    <tr>\n",
       "      <th>0</th>\n",
       "      <td>71938011.0</td>\n",
       "      <td>16.0</td>\n",
       "      <td>-1.0</td>\n",
       "      <td>547.0</td>\n",
       "      <td>20200615.0</td>\n",
       "      <td>20200625.0</td>\n",
       "      <td>NaN</td>\n",
       "      <td>10.0</td>\n",
       "      <td>5.0</td>\n",
       "      <td>48.594</td>\n",
       "      <td>...</td>\n",
       "      <td>Bulk Discount Store</td>\n",
       "      <td>London</td>\n",
       "      <td>England</td>\n",
       "      <td>United Kingdom</td>\n",
       "      <td>HL Road Pedal</td>\n",
       "      <td>Silver/Black</td>\n",
       "      <td>80.99</td>\n",
       "      <td>HL Road Pedal</td>\n",
       "      <td>Pedals</td>\n",
       "      <td>Components</td>\n",
       "    </tr>\n",
       "  </tbody>\n",
       "</table>\n",
       "<p>1 rows × 34 columns</p>\n",
       "</div>"
      ],
      "text/plain": [
       "    ИД_Заказа  Ключ_Магазин  Ключ_Клиент  Ключ_Номенклатура  Дата заказа  \\\n",
       "0  71938011.0          16.0         -1.0              547.0   20200615.0   \n",
       "\n",
       "   Дата получения  Дата отправки  Ключ_территория  Количество, шт.  Цена, шт  \\\n",
       "0      20200625.0            NaN             10.0              5.0    48.594   \n",
       "\n",
       "   ...              Магазин  Город_y  Область_y          Регион  \\\n",
       "0  ...  Bulk Discount Store   London    England  United Kingdom   \n",
       "\n",
       "    Номенклатура          Цвет Себестоимость_y         Модель Субкатегория  \\\n",
       "0  HL Road Pedal  Silver/Black           80.99  HL Road Pedal       Pedals   \n",
       "\n",
       "    Категория  \n",
       "0  Components  \n",
       "\n",
       "[1 rows x 34 columns]"
      ]
     },
     "execution_count": 46,
     "metadata": {},
     "output_type": "execute_result"
    }
   ],
   "source": [
    "summary.head(1)"
   ]
  },
  {
   "cell_type": "code",
   "execution_count": 51,
   "id": "f66c9f8b",
   "metadata": {},
   "outputs": [
    {
     "data": {
      "text/plain": [
       "Index(['ИД_Заказа', 'Ключ_Магазин', 'Ключ_Клиент', 'Ключ_Номенклатура',\n",
       "       'Дата заказа', 'Дата получения', 'Дата отправки', 'Ключ_территория',\n",
       "       'Количество, шт.', 'Цена, шт', 'Полная стоимость', 'Себестоимость_x',\n",
       "       'Общая стоимость, руб', 'Выручка итоговая', 'ИД клиента', 'Клиент',\n",
       "       'Город_x', 'Область_x', 'Регион_x', 'Регион_y', 'Страна', 'Группа',\n",
       "       'ИД Магазина', 'Тип магазина', 'Магазин', 'Город_y', 'Область_y',\n",
       "       'Регион', 'Номенклатура', 'Цвет', 'Себестоимость_y', 'Модель',\n",
       "       'Субкатегория', 'Категория'],\n",
       "      dtype='object')"
      ]
     },
     "execution_count": 51,
     "metadata": {},
     "output_type": "execute_result"
    }
   ],
   "source": [
    "summary.columns"
   ]
  },
  {
   "cell_type": "code",
   "execution_count": 55,
   "id": "7b9c102f",
   "metadata": {},
   "outputs": [
    {
     "data": {
      "text/plain": [
       "array(['Value Added Reseller', 'Warehouse', 'Specialty Bike Shop',\n",
       "       '[Not Applicable]'], dtype=object)"
      ]
     },
     "execution_count": 55,
     "metadata": {},
     "output_type": "execute_result"
    }
   ],
   "source": [
    "summary['Тип магазина'].unique()"
   ]
  },
  {
   "cell_type": "code",
   "execution_count": 23,
   "id": "553620a3",
   "metadata": {},
   "outputs": [
    {
     "data": {
      "text/html": [
       "<div>\n",
       "<style scoped>\n",
       "    .dataframe tbody tr th:only-of-type {\n",
       "        vertical-align: middle;\n",
       "    }\n",
       "\n",
       "    .dataframe tbody tr th {\n",
       "        vertical-align: top;\n",
       "    }\n",
       "\n",
       "    .dataframe thead th {\n",
       "        text-align: right;\n",
       "    }\n",
       "</style>\n",
       "<table border=\"1\" class=\"dataframe\">\n",
       "  <thead>\n",
       "    <tr style=\"text-align: right;\">\n",
       "      <th></th>\n",
       "      <th>Город_x</th>\n",
       "      <th>Область_x</th>\n",
       "      <th>Регион_x</th>\n",
       "      <th>Город_y</th>\n",
       "      <th>Область_y</th>\n",
       "      <th>Регион_y</th>\n",
       "    </tr>\n",
       "  </thead>\n",
       "  <tbody>\n",
       "    <tr>\n",
       "      <th>0</th>\n",
       "      <td>[Not Applicable]</td>\n",
       "      <td>[Not Applicable]</td>\n",
       "      <td>[Not Applicable]</td>\n",
       "      <td>London</td>\n",
       "      <td>England</td>\n",
       "      <td>United Kingdom</td>\n",
       "    </tr>\n",
       "    <tr>\n",
       "      <th>1</th>\n",
       "      <td>[Not Applicable]</td>\n",
       "      <td>[Not Applicable]</td>\n",
       "      <td>[Not Applicable]</td>\n",
       "      <td>London</td>\n",
       "      <td>England</td>\n",
       "      <td>United Kingdom</td>\n",
       "    </tr>\n",
       "    <tr>\n",
       "      <th>2</th>\n",
       "      <td>[Not Applicable]</td>\n",
       "      <td>[Not Applicable]</td>\n",
       "      <td>[Not Applicable]</td>\n",
       "      <td>London</td>\n",
       "      <td>England</td>\n",
       "      <td>United Kingdom</td>\n",
       "    </tr>\n",
       "    <tr>\n",
       "      <th>3</th>\n",
       "      <td>[Not Applicable]</td>\n",
       "      <td>[Not Applicable]</td>\n",
       "      <td>[Not Applicable]</td>\n",
       "      <td>Liverpool</td>\n",
       "      <td>England</td>\n",
       "      <td>United Kingdom</td>\n",
       "    </tr>\n",
       "    <tr>\n",
       "      <th>4</th>\n",
       "      <td>[Not Applicable]</td>\n",
       "      <td>[Not Applicable]</td>\n",
       "      <td>[Not Applicable]</td>\n",
       "      <td>Liverpool</td>\n",
       "      <td>England</td>\n",
       "      <td>United Kingdom</td>\n",
       "    </tr>\n",
       "    <tr>\n",
       "      <th>...</th>\n",
       "      <td>...</td>\n",
       "      <td>...</td>\n",
       "      <td>...</td>\n",
       "      <td>...</td>\n",
       "      <td>...</td>\n",
       "      <td>...</td>\n",
       "    </tr>\n",
       "    <tr>\n",
       "      <th>121248</th>\n",
       "      <td>[Not Applicable]</td>\n",
       "      <td>[Not Applicable]</td>\n",
       "      <td>[Not Applicable]</td>\n",
       "      <td>Reno</td>\n",
       "      <td>Nevada</td>\n",
       "      <td>Northwest</td>\n",
       "    </tr>\n",
       "    <tr>\n",
       "      <th>121249</th>\n",
       "      <td>[Not Applicable]</td>\n",
       "      <td>[Not Applicable]</td>\n",
       "      <td>[Not Applicable]</td>\n",
       "      <td>Redmond</td>\n",
       "      <td>Washington</td>\n",
       "      <td>Northwest</td>\n",
       "    </tr>\n",
       "    <tr>\n",
       "      <th>121250</th>\n",
       "      <td>[Not Applicable]</td>\n",
       "      <td>[Not Applicable]</td>\n",
       "      <td>[Not Applicable]</td>\n",
       "      <td>Puyallup</td>\n",
       "      <td>Washington</td>\n",
       "      <td>Northwest</td>\n",
       "    </tr>\n",
       "    <tr>\n",
       "      <th>121251</th>\n",
       "      <td>[Not Applicable]</td>\n",
       "      <td>[Not Applicable]</td>\n",
       "      <td>[Not Applicable]</td>\n",
       "      <td>Puyallup</td>\n",
       "      <td>Washington</td>\n",
       "      <td>Northwest</td>\n",
       "    </tr>\n",
       "    <tr>\n",
       "      <th>121252</th>\n",
       "      <td>[Not Applicable]</td>\n",
       "      <td>[Not Applicable]</td>\n",
       "      <td>[Not Applicable]</td>\n",
       "      <td>North Miami Beach</td>\n",
       "      <td>Florida</td>\n",
       "      <td>Southeast</td>\n",
       "    </tr>\n",
       "  </tbody>\n",
       "</table>\n",
       "<p>121253 rows × 6 columns</p>\n",
       "</div>"
      ],
      "text/plain": [
       "                 Город_x         Область_x          Регион_x  \\\n",
       "0       [Not Applicable]  [Not Applicable]  [Not Applicable]   \n",
       "1       [Not Applicable]  [Not Applicable]  [Not Applicable]   \n",
       "2       [Not Applicable]  [Not Applicable]  [Not Applicable]   \n",
       "3       [Not Applicable]  [Not Applicable]  [Not Applicable]   \n",
       "4       [Not Applicable]  [Not Applicable]  [Not Applicable]   \n",
       "...                  ...               ...               ...   \n",
       "121248  [Not Applicable]  [Not Applicable]  [Not Applicable]   \n",
       "121249  [Not Applicable]  [Not Applicable]  [Not Applicable]   \n",
       "121250  [Not Applicable]  [Not Applicable]  [Not Applicable]   \n",
       "121251  [Not Applicable]  [Not Applicable]  [Not Applicable]   \n",
       "121252  [Not Applicable]  [Not Applicable]  [Not Applicable]   \n",
       "\n",
       "                  Город_y   Область_y        Регион_y  \n",
       "0                  London     England  United Kingdom  \n",
       "1                  London     England  United Kingdom  \n",
       "2                  London     England  United Kingdom  \n",
       "3               Liverpool     England  United Kingdom  \n",
       "4               Liverpool     England  United Kingdom  \n",
       "...                   ...         ...             ...  \n",
       "121248               Reno      Nevada       Northwest  \n",
       "121249            Redmond  Washington       Northwest  \n",
       "121250           Puyallup  Washington       Northwest  \n",
       "121251           Puyallup  Washington       Northwest  \n",
       "121252  North Miami Beach     Florida       Southeast  \n",
       "\n",
       "[121253 rows x 6 columns]"
      ]
     },
     "execution_count": 23,
     "metadata": {},
     "output_type": "execute_result"
    }
   ],
   "source": [
    "summary.loc[:, ['Город_x', 'Область_x', 'Регион_x', 'Город_y', 'Область_y', 'Регион_y']]"
   ]
  },
  {
   "cell_type": "code",
   "execution_count": 24,
   "id": "8aa840c3",
   "metadata": {},
   "outputs": [
    {
     "data": {
      "text/html": [
       "<div>\n",
       "<style scoped>\n",
       "    .dataframe tbody tr th:only-of-type {\n",
       "        vertical-align: middle;\n",
       "    }\n",
       "\n",
       "    .dataframe tbody tr th {\n",
       "        vertical-align: top;\n",
       "    }\n",
       "\n",
       "    .dataframe thead th {\n",
       "        text-align: right;\n",
       "    }\n",
       "</style>\n",
       "<table border=\"1\" class=\"dataframe\">\n",
       "  <thead>\n",
       "    <tr style=\"text-align: right;\">\n",
       "      <th></th>\n",
       "      <th>ИД Магазина</th>\n",
       "    </tr>\n",
       "    <tr>\n",
       "      <th>Тип магазина</th>\n",
       "      <th></th>\n",
       "    </tr>\n",
       "  </thead>\n",
       "  <tbody>\n",
       "    <tr>\n",
       "      <th>Specialty Bike Shop</th>\n",
       "      <td>231</td>\n",
       "    </tr>\n",
       "    <tr>\n",
       "      <th>Value Added Reseller</th>\n",
       "      <td>238</td>\n",
       "    </tr>\n",
       "    <tr>\n",
       "      <th>Warehouse</th>\n",
       "      <td>232</td>\n",
       "    </tr>\n",
       "    <tr>\n",
       "      <th>[Not Applicable]</th>\n",
       "      <td>1</td>\n",
       "    </tr>\n",
       "  </tbody>\n",
       "</table>\n",
       "</div>"
      ],
      "text/plain": [
       "                      ИД Магазина\n",
       "Тип магазина                     \n",
       "Specialty Bike Shop           231\n",
       "Value Added Reseller          238\n",
       "Warehouse                     232\n",
       "[Not Applicable]                1"
      ]
     },
     "execution_count": 24,
     "metadata": {},
     "output_type": "execute_result"
    }
   ],
   "source": [
    "data['СПР_Магазины'].groupby('Тип магазина').agg({'ИД Магазина': 'count'})"
   ]
  },
  {
   "cell_type": "code",
   "execution_count": 25,
   "id": "75e9fe6a",
   "metadata": {},
   "outputs": [
    {
     "data": {
      "text/html": [
       "<div>\n",
       "<style scoped>\n",
       "    .dataframe tbody tr th:only-of-type {\n",
       "        vertical-align: middle;\n",
       "    }\n",
       "\n",
       "    .dataframe tbody tr th {\n",
       "        vertical-align: top;\n",
       "    }\n",
       "\n",
       "    .dataframe thead th {\n",
       "        text-align: right;\n",
       "    }\n",
       "</style>\n",
       "<table border=\"1\" class=\"dataframe\">\n",
       "  <thead>\n",
       "    <tr style=\"text-align: right;\">\n",
       "      <th></th>\n",
       "      <th>Ключ_номенклатура</th>\n",
       "      <th>Артикул</th>\n",
       "      <th>Номенклатура</th>\n",
       "      <th>Закупка, руб</th>\n",
       "      <th>Цвет</th>\n",
       "      <th>Себестоимость</th>\n",
       "      <th>Модель</th>\n",
       "      <th>Субкатегория</th>\n",
       "      <th>Категория</th>\n",
       "    </tr>\n",
       "  </thead>\n",
       "  <tbody>\n",
       "    <tr>\n",
       "      <th>0</th>\n",
       "      <td>210.0</td>\n",
       "      <td>FR-R92B-58</td>\n",
       "      <td>HL Road Frame - Black, 58</td>\n",
       "      <td>868.6342</td>\n",
       "      <td>Black</td>\n",
       "      <td>1431.5000</td>\n",
       "      <td>HL Road Frame</td>\n",
       "      <td>Road Frames</td>\n",
       "      <td>Components</td>\n",
       "    </tr>\n",
       "    <tr>\n",
       "      <th>1</th>\n",
       "      <td>211.0</td>\n",
       "      <td>FR-R92R-58</td>\n",
       "      <td>HL Road Frame - Red, 58</td>\n",
       "      <td>868.6342</td>\n",
       "      <td>Red</td>\n",
       "      <td>1431.5000</td>\n",
       "      <td>HL Road Frame</td>\n",
       "      <td>Road Frames</td>\n",
       "      <td>Components</td>\n",
       "    </tr>\n",
       "    <tr>\n",
       "      <th>2</th>\n",
       "      <td>212.0</td>\n",
       "      <td>HL-U509-R</td>\n",
       "      <td>Sport-100 Helmet, Red</td>\n",
       "      <td>12.0278</td>\n",
       "      <td>Red</td>\n",
       "      <td>33.6442</td>\n",
       "      <td>Sport-100</td>\n",
       "      <td>Helmets</td>\n",
       "      <td>Accessories</td>\n",
       "    </tr>\n",
       "    <tr>\n",
       "      <th>3</th>\n",
       "      <td>213.0</td>\n",
       "      <td>HL-U509-R</td>\n",
       "      <td>Sport-100 Helmet, Red</td>\n",
       "      <td>13.8782</td>\n",
       "      <td>Red</td>\n",
       "      <td>33.6442</td>\n",
       "      <td>Sport-100</td>\n",
       "      <td>Helmets</td>\n",
       "      <td>Accessories</td>\n",
       "    </tr>\n",
       "    <tr>\n",
       "      <th>4</th>\n",
       "      <td>214.0</td>\n",
       "      <td>HL-U509-R</td>\n",
       "      <td>Sport-100 Helmet, Red</td>\n",
       "      <td>13.0863</td>\n",
       "      <td>Red</td>\n",
       "      <td>34.9900</td>\n",
       "      <td>Sport-100</td>\n",
       "      <td>Helmets</td>\n",
       "      <td>Accessories</td>\n",
       "    </tr>\n",
       "    <tr>\n",
       "      <th>...</th>\n",
       "      <td>...</td>\n",
       "      <td>...</td>\n",
       "      <td>...</td>\n",
       "      <td>...</td>\n",
       "      <td>...</td>\n",
       "      <td>...</td>\n",
       "      <td>...</td>\n",
       "      <td>...</td>\n",
       "      <td>...</td>\n",
       "    </tr>\n",
       "    <tr>\n",
       "      <th>392</th>\n",
       "      <td>602.0</td>\n",
       "      <td>BB-8107</td>\n",
       "      <td>ML Bottom Bracket</td>\n",
       "      <td>44.9506</td>\n",
       "      <td>NaN</td>\n",
       "      <td>101.2400</td>\n",
       "      <td>ML Bottom Bracket</td>\n",
       "      <td>Bottom Brackets</td>\n",
       "      <td>Components</td>\n",
       "    </tr>\n",
       "    <tr>\n",
       "      <th>393</th>\n",
       "      <td>603.0</td>\n",
       "      <td>BB-9108</td>\n",
       "      <td>HL Bottom Bracket</td>\n",
       "      <td>53.9416</td>\n",
       "      <td>NaN</td>\n",
       "      <td>121.4900</td>\n",
       "      <td>HL Bottom Bracket</td>\n",
       "      <td>Bottom Brackets</td>\n",
       "      <td>Components</td>\n",
       "    </tr>\n",
       "    <tr>\n",
       "      <th>394</th>\n",
       "      <td>604.0</td>\n",
       "      <td>BK-R19B-44</td>\n",
       "      <td>Road-750 Black, 44</td>\n",
       "      <td>343.6496</td>\n",
       "      <td>Black</td>\n",
       "      <td>539.9900</td>\n",
       "      <td>Road-750</td>\n",
       "      <td>Road Bikes</td>\n",
       "      <td>Bikes</td>\n",
       "    </tr>\n",
       "    <tr>\n",
       "      <th>395</th>\n",
       "      <td>605.0</td>\n",
       "      <td>BK-R19B-48</td>\n",
       "      <td>Road-750 Black, 48</td>\n",
       "      <td>343.6496</td>\n",
       "      <td>Black</td>\n",
       "      <td>539.9900</td>\n",
       "      <td>Road-750</td>\n",
       "      <td>Road Bikes</td>\n",
       "      <td>Bikes</td>\n",
       "    </tr>\n",
       "    <tr>\n",
       "      <th>396</th>\n",
       "      <td>606.0</td>\n",
       "      <td>BK-R19B-52</td>\n",
       "      <td>Road-750 Black, 52</td>\n",
       "      <td>343.6496</td>\n",
       "      <td>Black</td>\n",
       "      <td>539.9900</td>\n",
       "      <td>Road-750</td>\n",
       "      <td>Road Bikes</td>\n",
       "      <td>Bikes</td>\n",
       "    </tr>\n",
       "  </tbody>\n",
       "</table>\n",
       "<p>397 rows × 9 columns</p>\n",
       "</div>"
      ],
      "text/plain": [
       "     Ключ_номенклатура     Артикул               Номенклатура  Закупка, руб  \\\n",
       "0                210.0  FR-R92B-58  HL Road Frame - Black, 58      868.6342   \n",
       "1                211.0  FR-R92R-58    HL Road Frame - Red, 58      868.6342   \n",
       "2                212.0   HL-U509-R      Sport-100 Helmet, Red       12.0278   \n",
       "3                213.0   HL-U509-R      Sport-100 Helmet, Red       13.8782   \n",
       "4                214.0   HL-U509-R      Sport-100 Helmet, Red       13.0863   \n",
       "..                 ...         ...                        ...           ...   \n",
       "392              602.0     BB-8107          ML Bottom Bracket       44.9506   \n",
       "393              603.0     BB-9108          HL Bottom Bracket       53.9416   \n",
       "394              604.0  BK-R19B-44         Road-750 Black, 44      343.6496   \n",
       "395              605.0  BK-R19B-48         Road-750 Black, 48      343.6496   \n",
       "396              606.0  BK-R19B-52         Road-750 Black, 52      343.6496   \n",
       "\n",
       "      Цвет  Себестоимость             Модель     Субкатегория    Категория  \n",
       "0    Black      1431.5000      HL Road Frame      Road Frames   Components  \n",
       "1      Red      1431.5000      HL Road Frame      Road Frames   Components  \n",
       "2      Red        33.6442          Sport-100          Helmets  Accessories  \n",
       "3      Red        33.6442          Sport-100          Helmets  Accessories  \n",
       "4      Red        34.9900          Sport-100          Helmets  Accessories  \n",
       "..     ...            ...                ...              ...          ...  \n",
       "392    NaN       101.2400  ML Bottom Bracket  Bottom Brackets   Components  \n",
       "393    NaN       121.4900  HL Bottom Bracket  Bottom Brackets   Components  \n",
       "394  Black       539.9900           Road-750       Road Bikes        Bikes  \n",
       "395  Black       539.9900           Road-750       Road Bikes        Bikes  \n",
       "396  Black       539.9900           Road-750       Road Bikes        Bikes  \n",
       "\n",
       "[397 rows x 9 columns]"
      ]
     },
     "execution_count": 25,
     "metadata": {},
     "output_type": "execute_result"
    }
   ],
   "source": [
    "data['СПР_товар']"
   ]
  },
  {
   "cell_type": "code",
   "execution_count": null,
   "id": "261c602c",
   "metadata": {},
   "outputs": [],
   "source": []
  }
 ],
 "metadata": {
  "kernelspec": {
   "display_name": "Python 3 (ipykernel)",
   "language": "python",
   "name": "python3"
  },
  "language_info": {
   "codemirror_mode": {
    "name": "ipython",
    "version": 3
   },
   "file_extension": ".py",
   "mimetype": "text/x-python",
   "name": "python",
   "nbconvert_exporter": "python",
   "pygments_lexer": "ipython3",
   "version": "3.9.7"
  }
 },
 "nbformat": 4,
 "nbformat_minor": 5
}
